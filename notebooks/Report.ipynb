{
 "cells": [
  {
   "cell_type": "markdown",
   "id": "1a4bd481-24f5-4b38-a307-ad3407239f4f",
   "metadata": {},
   "source": [
    "# REPORT\n",
    "This document outlines the steps taken to clean and preprocess the dataset `train.csv` used in the prediction of CHD. It also contains a summary of findings as well as recommendations."
   ]
  },
  {
   "cell_type": "markdown",
   "id": "718e470f-227d-48bc-8e3d-1f33e00197cd",
   "metadata": {},
   "source": [
    "## DATA CLEANING AND TRANSFORMATION"
   ]
  },
  {
   "cell_type": "markdown",
   "id": "f62db1bd-c15e-4afe-9eb1-4ae736c9ab74",
   "metadata": {},
   "source": [
    "Libraries used: \n",
    "pandas, numpy, matplotlib, seaborn, sklearn and ydata_profiling."
   ]
  },
  {
   "cell_type": "markdown",
   "id": "19459bd2-d83a-4a13-9be4-f66a23cc2531",
   "metadata": {},
   "source": [
    "*STEP 1:*\n",
    "Dataset was imported using pandas.\n",
    "\n",
    "*STEP 2:*\n",
    "Initial inspection was conducted using pandas and automated EDA via ydata_profiling.\n",
    "\n",
    "*STEP 3:*\n",
    "Seven numeric columns with missing data were identified.\n",
    "\n",
    "*STEP 4:*\n",
    "A binary feature was created to highlight missing data from one of the columns, _glucose_, seeing as it had almost 10% of data missing.\n",
    "\n",
    "*STEP 5:*\n",
    "Missing data were filled with median using sklearn's SimpleImputer.\n",
    "\n",
    "*STEP 6:*\n",
    "Columns with float datatype but containing only whole numbers were identified and converted to int for memory efficiency and clarity\n",
    "\n",
    "*STEP 7:*\n",
    "Outliers were identified in *twelve* columns and retained as they represented rare but valid cases.\n",
    "\n",
    "*STEP 8:*\n",
    "Cleaned dataset, ready for modeling, was exported using pandas.\n",
    "\n",
    "*STEP 9:*\n",
    "Data was split\n",
    "\n",
    "*STEP 10:*\n",
    "- Columns with outliers representing a meaningful minority class were retained.\n",
    "- _age_ and _education_ features were scaled using StandardScaler.\n",
    "- Other numeric features with outliers were scaled using RobustScaler.\n",
    "- Categorical features were encoded using OneHotEncoder to preserve nominal classification."
   ]
  },
  {
   "cell_type": "markdown",
   "id": "a0fb3a1b-f91a-4099-b163-d010673e4bce",
   "metadata": {},
   "source": [
    "## SUMMARY OF FINDINGS "
   ]
  },
  {
   "cell_type": "markdown",
   "id": "e93760d0-4c2a-4585-bc42-d5004a476ae3",
   "metadata": {},
   "source": [
    "#### Key insights gained from analysis:\n",
    "\n",
    "1. **Important Predictors of CHD:**\n",
    "   * History of stroke played the most important role in predicting CHD risk.\n",
    "   * Features such as _age_, _cigsPerDay_, _sysBP_, _diabetes_, _prevalentHyp_ and _sex_M_ were highly influential as well.\n",
    "   * Missing glucose values are also useful in the prediction of CHD risk.\n",
    "\n",
    "     \n",
    "2. **Effectiveness of Data Cleaning and Imputation:**\n",
    "   * Median imputation helped manage missing data without introducing bias.\n",
    "   * Outlier detection was considered, particularly for numerical features."
   ]
  },
  {
   "cell_type": "markdown",
   "id": "fcb21890-6b72-403e-bf70-29b37200e2b5",
   "metadata": {
    "jp-MarkdownHeadingCollapsed": true
   },
   "source": [
    "#### How they can be used to inform public health initiatives or personalized medical interventions for CHD prevention:\n",
    "1. **Informing Public Health Initiatives:**\n",
    "\n",
    "   * **Targeted Interventions:** Risk factors like rate of smoking, high blood pressure and diabetes prevalence suggest targeted education and intervention campaigns especially towards males\n",
    "   * **Resource Allocation:** Public health resources can be concentrated on populations with key risk markers (e.g., elderly with elevated systolic BP).\n",
    "\n",
    "2. **Personalized Medical Interventions:**\n",
    "\n",
    "   * **Early Screening Programs:** Individuals with early risk factors can be flagged for regular cardiovascular monitoring.\n",
    "   * **Tailored Lifestyle Plans:** Personalized recommendations can be generated from the model output (e.g., cholesterol management, smoking cessation, diet for diabetics)."
   ]
  },
  {
   "cell_type": "markdown",
   "id": "e2e5911f-2b62-4d94-939e-1329e90f8853",
   "metadata": {},
   "source": [
    "## FUTURE DIRECTIONS"
   ]
  },
  {
   "cell_type": "markdown",
   "id": "45c9c96d-42d6-41e3-98f8-5ec62c581b63",
   "metadata": {},
   "source": [
    "#### Ways in which the model can  be improved in the future and additional features which may enhance its predictive power:\n",
    "1. **Model Enhancements:**\n",
    "\n",
    "   * **Incorporate Temporal Data:** Longitudinal health data (e.g., changes in BP, BMI over time) could improve predictions.\n",
    "   * **Training with balanced classes or better handling of imbalanced classes:** If the CHD class is balanced, it could easily prevent bias. If the CHD class is imbalanced, Resampling techniques or class-weighted models can improve sensitivity and reduce false negatives.\n",
    "\n",
    "\n",
    "2. **Additional Predictive Features:**\n",
    "\n",
    "   * **Family history of CHD**\n",
    "   * **Physical activity levels**\n",
    "   * **Socioeconomic status or geographic location**\n",
    "   * **Dietary habits and alcohol consumption**"
   ]
  },
  {
   "cell_type": "markdown",
   "id": "6e995f88-b763-46e2-8f20-fd77d64fad4a",
   "metadata": {},
   "source": [
    "#### How the model can be integrated into healthcare systems for early detection of CHD\n",
    "  \n",
    "1. **Electronic Health Record (EHR) Integration:**\n",
    "\n",
    "   * The trained model can be embedded into EHR systems to run predictions during routine checkups or hospital visits.\n",
    "   * Automatic flagging of high-risk patients enables real-time decision support for physicians.\n",
    "\n",
    "2. **Mobile and Wearable Integration:**\n",
    "\n",
    "   * With the rise of wearable health monitors, patient data (e.g., heart rate, activity) can feed directly into the model for continuous CHD risk assessment.\n",
    "\n",
    "3. **Remote Risk Assessment Tools:**\n",
    "\n",
    "   * Deploy as a web or mobile app allowing users to assess their CHD risk based on self-reported or synced health data.\n",
    "\n",
    "4. **Clinical Decision Support:**\n",
    "\n",
    "   * Doctors can use model outputs to justify further diagnostic testing or preventive therapies.\n"
   ]
  },
  {
   "cell_type": "code",
   "execution_count": null,
   "id": "850a7d8d-1033-48ca-83e8-3298b5fc7ef9",
   "metadata": {},
   "outputs": [],
   "source": []
  }
 ],
 "metadata": {
  "kernelspec": {
   "display_name": "Python [conda env:base] *",
   "language": "python",
   "name": "conda-base-py"
  },
  "language_info": {
   "codemirror_mode": {
    "name": "ipython",
    "version": 3
   },
   "file_extension": ".py",
   "mimetype": "text/x-python",
   "name": "python",
   "nbconvert_exporter": "python",
   "pygments_lexer": "ipython3",
   "version": "3.12.7"
  }
 },
 "nbformat": 4,
 "nbformat_minor": 5
}
